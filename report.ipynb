{
  "cells": [
    {
      "cell_type": "raw",
      "metadata": {},
      "source": [
        "---\n",
        "title: Bitcoin sentiment analysis\n",
        "author: 'Ambroise Thibault, Faune Blanchard, Maxime Lorenzo'\n",
        "format:\n",
        "  pdf:\n",
        "    documentclass: article\n",
        "    colorlinks: true\n",
        "    latex-auto-install: true\n",
        "    classoption: a4paper\n",
        "    geometry: margin=1in\n",
        "    citation-style: apa\n",
        "    keep-tex: true\n",
        "    toc: true\n",
        "    toc-depth: 4\n",
        "    number-sections: true\n",
        "    cite-method: biblatex\n",
        "css: |\n",
        "  p {\n",
        "    text-align: justify;\n",
        "  }\n",
        "bibliography: bibliography.bib\n",
        "nocite: |\n",
        "  @*\n",
        "---"
      ],
      "id": "d615e4ed"
    },
    {
      "cell_type": "markdown",
      "metadata": {},
      "source": [
        "# Introduction\n",
        "\n",
        "Write with chat\n",
        "\n",
        "# Generating sentiment score\n",
        "\n",
        "## Presentation of the database\n",
        "\n",
        "We collected a dataset from GitHub entitled [Crypto News Dataset](https://github.com/soheilrahsaz/cryptoNewsDataset). It aggregates daily headlines from a variety of crypto news websites. Each headline is labeled with the cryptocurrencies to which it refers. They are also timestamped down to the second the news was posted on the site. We also have the number of likes, dislikes, comments and others, although these are often 0, as well as the link to the article. In this project, we will only be using the raw headlines in order to generate the scores that we need.\n",
        "\n",
        "Here is a quick view of the pre processed dataset with our function \"import_data\" in the \"prompts\" module. This function reads the csv files from the GitHub repository linked above, then it removes unwanted columns and formats the date so that we only have the day at which it was posted. We can see that there can be multiple headlines in one day, or no headlines. This will cause issues that we will explain later on in the project.\n"
      ],
      "id": "aa7395a1"
    },
    {
      "cell_type": "code",
      "metadata": {},
      "source": [
        "from prompts import_data\n",
        "titles = import_data()\n",
        "pl.config.Config.set_tbl_width_chars(-1)\n",
        "display(titles.drop('prompts').head())"
      ],
      "id": "52881541",
      "execution_count": null,
      "outputs": []
    },
    {
      "cell_type": "markdown",
      "metadata": {},
      "source": [
        "The function also writes the prompts that we will later feed to the Large Language Model in order to properly generate the scores, which we will explain in the following section.\n",
        "\n",
        "## Generating prompts\n",
        "\n",
        "For each headline, we generate a prompt which asks the AI its beliefs about the evolution of Bitcoin returns based on this headline. The prompt we decided to use is the exact prompt presented in @leland_bybee_2025 . The exact prompt reads :\n",
        "\n",
        "```         \n",
        "Here is a piece of news:\n",
        "\"%s\"\n",
        "Do you think this news will increase or decrease BTC?\n",
        "Write your answer as: \n",
        "{increase/decrease/uncertain}:\n",
        "{confidence (0-1)}:\n",
        "{magnitude of increase/decrease (0-1)}:\n",
        "{explanation (less than 25 words)}\n",
        "```\n",
        "\n",
        "Where \"%s\" is replaced by the headline. After editing this prompt, we notice that removing part of this prompt changes the results drastically (from \"increase\" to \"decrease\" for the same headline). Therefore, we decided to keep the prompt from the paper as is, even though we will only use the results for \"increase\" or \"decrease\" for this project. This prompt has been adapted from traditional retail investor surveys or surveys of CFOs that are used to produce a sentiment indicator. However, these are costly and slow. As presented in the paper, using AI models to replace human answers mimics the same results on a much bigger and faster scale. We will also try to edit this prompt by adding context: since Bitcoin has mostly been popular among retail investors, we can add a simple sentence (e.g. \"You are a retail investor\") at the beginning of this prompt, to see if this yields better results. We will conclude on this in the end of the project.\n",
        "\n",
        "More information about the construction on this prompt can be found in @leland_bybee_2025 .\n",
        "\n",
        "## Scores methodology\n",
        "\n",
        "# Comparison with BTC returns\n",
        "\n",
        "## Extracting BTC returns\n",
        "\n",
        "## Comparing with scores\n",
        "\n",
        "### Initial results\n",
        "\n",
        "### Problems with our model\n",
        "\n",
        "### Interpretation\n",
        "\n",
        "# Conclusion"
      ],
      "id": "cff373de"
    }
  ],
  "metadata": {
    "kernelspec": {
      "name": "python3",
      "language": "python",
      "display_name": "python3"
    }
  },
  "nbformat": 4,
  "nbformat_minor": 5
}