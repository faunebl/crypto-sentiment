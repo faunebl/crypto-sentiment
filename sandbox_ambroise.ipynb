{
 "cells": [
  {
   "cell_type": "markdown",
   "id": "94f30616",
   "metadata": {},
   "source": [
    "--- \n",
    "# Sandbox (Ambroise)\n",
    "Tests for each part of this project\n",
    "\n",
    "---"
   ]
  },
  {
   "cell_type": "markdown",
   "id": "1b0a7fa9",
   "metadata": {},
   "source": [
    "### Imports"
   ]
  },
  {
   "cell_type": "code",
   "execution_count": 27,
   "id": "c7f0d20b",
   "metadata": {},
   "outputs": [
    {
     "name": "stdout",
     "output_type": "stream",
     "text": [
      "The autoreload extension is already loaded. To reload it, use:\n",
      "  %reload_ext autoreload\n"
     ]
    }
   ],
   "source": [
    "%load_ext autoreload\n",
    "%autoreload 2\n",
    "\n",
    "#external libraries\n",
    "import polars as pl\n",
    "import pandas as pd\n",
    "from datetime import date\n",
    "import nest_asyncio\n",
    "import os\n",
    "import yfinance as yf\n",
    "import datetime\n",
    "from sklearn.metrics import accuracy_score, confusion_matrix, precision_score, recall_score\n",
    "\n",
    "\n",
    "#internal libraries\n",
    "from prompts import process_in_batches, import_data, preprocess_responses"
   ]
  },
  {
   "cell_type": "markdown",
   "id": "91afc85e",
   "metadata": {},
   "source": [
    "## Importing data test"
   ]
  },
  {
   "cell_type": "code",
   "execution_count": null,
   "id": "c2d216d3",
   "metadata": {},
   "outputs": [],
   "source": [
    "titles = import_data()\n"
   ]
  },
  {
   "cell_type": "code",
   "execution_count": null,
   "id": "b043e83a",
   "metadata": {},
   "outputs": [],
   "source": [
    "titles.head()"
   ]
  },
  {
   "cell_type": "markdown",
   "id": "6d02e5b7",
   "metadata": {},
   "source": [
    "## Prompting test"
   ]
  },
  {
   "cell_type": "markdown",
   "id": "005d3290",
   "metadata": {},
   "source": [
    "### Basic sentences\n",
    "Adapted from the mistral website"
   ]
  },
  {
   "cell_type": "code",
   "execution_count": null,
   "id": "d8d83713",
   "metadata": {},
   "outputs": [],
   "source": [
    "responses = preprocess_responses()"
   ]
  },
  {
   "cell_type": "code",
   "execution_count": null,
   "id": "96c83ddb",
   "metadata": {},
   "outputs": [],
   "source": [
    "# responses.write_csv(\"scores.csv\")"
   ]
  },
  {
   "cell_type": "code",
   "execution_count": null,
   "id": "c7e98288",
   "metadata": {},
   "outputs": [],
   "source": [
    "# testing on half of the dataset first\n",
    "titles = titles.filter(pl.col('date').lt(date(2024,1,1)))"
   ]
  },
  {
   "cell_type": "code",
   "execution_count": null,
   "id": "342dfd0f",
   "metadata": {},
   "outputs": [],
   "source": [
    "# nest_asyncio.apply()\n",
    "# prompts = titles.select('prompts').to_series().to_list()\n",
    "# csv_path = \"responses_2024_2025.csv\"\n",
    "# first_write = not os.path.exists(csv_path)\n",
    "\n",
    "# async for batch in process_in_batches(prompts, batch_size=200, concurrency=10):\n",
    "#     batch_df = pl.DataFrame({\n",
    "#         \"index\": [r[0] for r in batch],\n",
    "#         \"prompt\": [r[1] for r in batch],\n",
    "#         \"response\": [r[2] for r in batch],\n",
    "#     })\n",
    "\n",
    "#     csv_string = batch_df.write_csv(separator=\",\", include_header=first_write)\n",
    "#     with open(csv_path, \"a\", encoding=\"utf-8\") as f:\n",
    "#         f.write(csv_string)\n",
    "\n",
    "#     first_write = False\n",
    "#     print(f\"Wrote {len(batch)} rows to {csv_path}\")\n"
   ]
  },
  {
   "cell_type": "code",
   "execution_count": null,
   "id": "9cb44070",
   "metadata": {},
   "outputs": [],
   "source": [
    "pl.read_csv('responses_2024_2025.csv').select(pl.col('response').str.slice(0,10))"
   ]
  },
  {
   "cell_type": "code",
   "execution_count": 3,
   "id": "6d6cd7b0",
   "metadata": {},
   "outputs": [],
   "source": [
    "scores = pl.read_csv('scores.csv')"
   ]
  },
  {
   "cell_type": "code",
   "execution_count": 6,
   "id": "b9a39a4f",
   "metadata": {},
   "outputs": [
    {
     "data": {
      "text/html": [
       "<div><style>\n",
       ".dataframe > thead > tr,\n",
       ".dataframe > tbody > tr {\n",
       "  text-align: right;\n",
       "  white-space: pre-wrap;\n",
       "}\n",
       "</style>\n",
       "<small>shape: (5, 5)</small><table border=\"1\" class=\"dataframe\"><thead><tr><th>date</th><th>increase</th><th>decrease</th><th>diff</th><th>score</th></tr><tr><td>str</td><td>i64</td><td>i64</td><td>i64</td><td>f64</td></tr></thead><tbody><tr><td>&quot;2017-09-29&quot;</td><td>0</td><td>1</td><td>-1</td><td>-1.0</td></tr><tr><td>&quot;2017-10-31&quot;</td><td>2</td><td>0</td><td>2</td><td>1.0</td></tr><tr><td>&quot;2017-11-12&quot;</td><td>1</td><td>0</td><td>1</td><td>1.0</td></tr><tr><td>&quot;2017-11-13&quot;</td><td>0</td><td>0</td><td>0</td><td>NaN</td></tr><tr><td>&quot;2017-11-14&quot;</td><td>0</td><td>1</td><td>-1</td><td>-1.0</td></tr></tbody></table></div>"
      ],
      "text/plain": [
       "shape: (5, 5)\n",
       "┌────────────┬──────────┬──────────┬──────┬───────┐\n",
       "│ date       ┆ increase ┆ decrease ┆ diff ┆ score │\n",
       "│ ---        ┆ ---      ┆ ---      ┆ ---  ┆ ---   │\n",
       "│ str        ┆ i64      ┆ i64      ┆ i64  ┆ f64   │\n",
       "╞════════════╪══════════╪══════════╪══════╪═══════╡\n",
       "│ 2017-09-29 ┆ 0        ┆ 1        ┆ -1   ┆ -1.0  │\n",
       "│ 2017-10-31 ┆ 2        ┆ 0        ┆ 2    ┆ 1.0   │\n",
       "│ 2017-11-12 ┆ 1        ┆ 0        ┆ 1    ┆ 1.0   │\n",
       "│ 2017-11-13 ┆ 0        ┆ 0        ┆ 0    ┆ NaN   │\n",
       "│ 2017-11-14 ┆ 0        ┆ 1        ┆ -1   ┆ -1.0  │\n",
       "└────────────┴──────────┴──────────┴──────┴───────┘"
      ]
     },
     "execution_count": 6,
     "metadata": {},
     "output_type": "execute_result"
    }
   ],
   "source": [
    "scores.head()"
   ]
  },
  {
   "cell_type": "code",
   "execution_count": 4,
   "id": "0808f230",
   "metadata": {},
   "outputs": [
    {
     "name": "stderr",
     "output_type": "stream",
     "text": [
      "/var/folders/zq/wrfz6jts6k73jk85nmz4ybrh0000gn/T/ipykernel_45884/2772585725.py:1: DeprecationWarning: The argument `dtypes` for `read_csv` is deprecated. It has been renamed to `schema_overrides`.\n",
      "  scores = pl.read_csv(\n"
     ]
    }
   ],
   "source": [
    "scores = pl.read_csv(\n",
    "  \"scores.csv\",\n",
    "  dtypes={\"date\": pl.Date}\n",
    ")\n"
   ]
  },
  {
   "cell_type": "code",
   "execution_count": null,
   "id": "239c6cb2",
   "metadata": {},
   "outputs": [
    {
     "name": "stdout",
     "output_type": "stream",
     "text": [
      "shape: (5, 2)\n",
      "┌────────────┬─────────────┐\n",
      "│ date       ┆ close       │\n",
      "│ ---        ┆ ---         │\n",
      "│ date       ┆ f64         │\n",
      "╞════════════╪═════════════╡\n",
      "│ 2017-09-29 ┆ 4163.069824 │\n",
      "│ 2017-09-30 ┆ 4338.709961 │\n",
      "│ 2017-10-01 ┆ 4403.740234 │\n",
      "│ 2017-10-02 ┆ 4409.319824 │\n",
      "│ 2017-10-03 ┆ 4317.47998  │\n",
      "└────────────┴─────────────┘\n"
     ]
    }
   ],
   "source": [
    "min_date = scores[\"date\"].min()\n",
    "max_date = scores[\"date\"].max()\n",
    "\n",
    "start_str = min_date.strftime(\"%Y-%m-%d\")\n",
    "end_str   = (max_date + datetime.timedelta(days=1)).strftime(\"%Y-%m-%d\")\n",
    "\n",
    "df_pd = yf.download(\n",
    "    tickers=\"BTC-USD\",\n",
    "    start=start_str,\n",
    "    end=end_str,\n",
    "    interval=\"1d\",\n",
    "    progress=False\n",
    ")\n",
    "\n",
    "\n",
    "if isinstance(df_pd.columns, pd.MultiIndex):\n",
    "    df_pd.columns = df_pd.columns.get_level_values(0)\n",
    "\n",
    "df_pd = df_pd.reset_index()\n",
    "df_price = (\n",
    "    pl.from_pandas(df_pd)\n",
    "      .select([\n",
    "         pl.col(\"Date\").alias(\"date\").cast(pl.Date),\n",
    "         pl.col(\"Close\").alias(\"close\")\n",
    "      ])\n",
    ")\n",
    "\n",
    "print(df_price.head())\n"
   ]
  },
  {
   "cell_type": "code",
   "execution_count": null,
   "id": "ccc3af27",
   "metadata": {},
   "outputs": [],
   "source": [
    "# for each date, if next date is higher : add 1, else 0\n",
    "df_price = df_price.with_columns([\n",
    "    (pl.col(\"close\").shift(-1) > pl.col(\"close\")).cast(pl.Int8).alias(\"actual\")\n",
    "])"
   ]
  },
  {
   "cell_type": "code",
   "execution_count": 33,
   "id": "f83bc564",
   "metadata": {},
   "outputs": [
    {
     "data": {
      "text/html": [
       "<div><style>\n",
       ".dataframe > thead > tr,\n",
       ".dataframe > tbody > tr {\n",
       "  text-align: right;\n",
       "  white-space: pre-wrap;\n",
       "}\n",
       "</style>\n",
       "<small>shape: (2_658, 3)</small><table border=\"1\" class=\"dataframe\"><thead><tr><th>date</th><th>close</th><th>actual</th></tr><tr><td>date</td><td>f64</td><td>i8</td></tr></thead><tbody><tr><td>2017-09-29</td><td>4163.069824</td><td>1</td></tr><tr><td>2017-09-30</td><td>4338.709961</td><td>1</td></tr><tr><td>2017-10-01</td><td>4403.740234</td><td>1</td></tr><tr><td>2017-10-02</td><td>4409.319824</td><td>0</td></tr><tr><td>2017-10-03</td><td>4317.47998</td><td>0</td></tr><tr><td>&hellip;</td><td>&hellip;</td><td>&hellip;</td></tr><tr><td>2025-01-03</td><td>98107.429688</td><td>1</td></tr><tr><td>2025-01-04</td><td>98236.226562</td><td>1</td></tr><tr><td>2025-01-05</td><td>98314.960938</td><td>1</td></tr><tr><td>2025-01-06</td><td>102078.085938</td><td>0</td></tr><tr><td>2025-01-07</td><td>96922.703125</td><td>null</td></tr></tbody></table></div>"
      ],
      "text/plain": [
       "shape: (2_658, 3)\n",
       "┌────────────┬───────────────┬────────┐\n",
       "│ date       ┆ close         ┆ actual │\n",
       "│ ---        ┆ ---           ┆ ---    │\n",
       "│ date       ┆ f64           ┆ i8     │\n",
       "╞════════════╪═══════════════╪════════╡\n",
       "│ 2017-09-29 ┆ 4163.069824   ┆ 1      │\n",
       "│ 2017-09-30 ┆ 4338.709961   ┆ 1      │\n",
       "│ 2017-10-01 ┆ 4403.740234   ┆ 1      │\n",
       "│ 2017-10-02 ┆ 4409.319824   ┆ 0      │\n",
       "│ 2017-10-03 ┆ 4317.47998    ┆ 0      │\n",
       "│ …          ┆ …             ┆ …      │\n",
       "│ 2025-01-03 ┆ 98107.429688  ┆ 1      │\n",
       "│ 2025-01-04 ┆ 98236.226562  ┆ 1      │\n",
       "│ 2025-01-05 ┆ 98314.960938  ┆ 1      │\n",
       "│ 2025-01-06 ┆ 102078.085938 ┆ 0      │\n",
       "│ 2025-01-07 ┆ 96922.703125  ┆ null   │\n",
       "└────────────┴───────────────┴────────┘"
      ]
     },
     "execution_count": 33,
     "metadata": {},
     "output_type": "execute_result"
    }
   ],
   "source": [
    "df_price"
   ]
  },
  {
   "cell_type": "code",
   "execution_count": null,
   "id": "60a16fa9",
   "metadata": {},
   "outputs": [],
   "source": [
    "df = scores.join(df_price.select([\"date\",\"actual\"]), on=\"date\", how=\"inner\")"
   ]
  },
  {
   "cell_type": "code",
   "execution_count": null,
   "id": "33367a14",
   "metadata": {},
   "outputs": [],
   "source": [
    "df = df.with_columns(\n",
    "    (pl.col(\"score\") > 0).cast(pl.Int8).alias(\"predicted\")\n",
    ")"
   ]
  },
  {
   "cell_type": "code",
   "execution_count": 32,
   "id": "72a33a3d",
   "metadata": {},
   "outputs": [
    {
     "name": "stdout",
     "output_type": "stream",
     "text": [
      "shape: (50, 7)\n",
      "┌────────────┬──────────┬──────────┬──────┬───────┬────────┬───────────┐\n",
      "│ date       ┆ increase ┆ decrease ┆ diff ┆ score ┆ actual ┆ predicted │\n",
      "│ ---        ┆ ---      ┆ ---      ┆ ---  ┆ ---   ┆ ---    ┆ ---       │\n",
      "│ date       ┆ i64      ┆ i64      ┆ i64  ┆ f64   ┆ i8     ┆ i8        │\n",
      "╞════════════╪══════════╪══════════╪══════╪═══════╪════════╪═══════════╡\n",
      "│ 2017-09-29 ┆ 0        ┆ 1        ┆ -1   ┆ -1.0  ┆ 1      ┆ 0         │\n",
      "│ 2017-10-31 ┆ 2        ┆ 0        ┆ 2    ┆ 1.0   ┆ 1      ┆ 1         │\n",
      "│ 2017-11-12 ┆ 1        ┆ 0        ┆ 1    ┆ 1.0   ┆ 1      ┆ 1         │\n",
      "│ 2017-11-13 ┆ 0        ┆ 0        ┆ 0    ┆ NaN   ┆ 1      ┆ 1         │\n",
      "│ 2017-11-14 ┆ 0        ┆ 1        ┆ -1   ┆ -1.0  ┆ 1      ┆ 0         │\n",
      "│ …          ┆ …        ┆ …        ┆ …    ┆ …     ┆ …      ┆ …         │\n",
      "│ 2018-04-17 ┆ 1        ┆ 0        ┆ 1    ┆ 1.0   ┆ 1      ┆ 1         │\n",
      "│ 2018-04-19 ┆ 1        ┆ 0        ┆ 1    ┆ 1.0   ┆ 1      ┆ 1         │\n",
      "│ 2018-04-24 ┆ 1        ┆ 0        ┆ 1    ┆ 1.0   ┆ 0      ┆ 1         │\n",
      "│ 2018-04-29 ┆ 1        ┆ 0        ┆ 1    ┆ 1.0   ┆ 0      ┆ 1         │\n",
      "│ 2018-05-02 ┆ 1        ┆ 0        ┆ 1    ┆ 1.0   ┆ 1      ┆ 1         │\n",
      "└────────────┴──────────┴──────────┴──────┴───────┴────────┴───────────┘\n"
     ]
    }
   ],
   "source": [
    "print(df.head(50))"
   ]
  },
  {
   "cell_type": "code",
   "execution_count": null,
   "id": "b6641fa4",
   "metadata": {},
   "outputs": [
    {
     "name": "stdout",
     "output_type": "stream",
     "text": [
      "Accuracy       : 0.502\n",
      "Confusion mat. :\n",
      "[[122 667]\n",
      " [138 689]]\n",
      "Precision      : 0.508\n",
      "Recall         : 0.833\n"
     ]
    }
   ],
   "source": [
    "df_clean = df.filter(\n",
    "    pl.col(\"actual\").is_not_null() &\n",
    "    pl.col(\"predicted\").is_not_null()\n",
    ")\n",
    "\n",
    "pdf = df_clean.select([\"actual\", \"predicted\"]).to_pandas()\n",
    "\n",
    "from sklearn.metrics import accuracy_score, confusion_matrix, precision_score, recall_score\n",
    "\n",
    "acc  = accuracy_score(pdf.actual, pdf.predicted)\n",
    "cm   = confusion_matrix(pdf.actual, pdf.predicted)\n",
    "prec = precision_score(pdf.actual, pdf.predicted)\n",
    "rec  = recall_score(pdf.actual, pdf.predicted)\n",
    "\n",
    "print(f\"Accuracy       : {acc:.3f}\")\n",
    "print(f\"Confusion mat. :\\n{cm}\")\n",
    "print(f\"Precision      : {prec:.3f}\")\n",
    "print(f\"Recall         : {rec:.3f}\")\n"
   ]
  }
 ],
 "metadata": {
  "kernelspec": {
   "display_name": "venv-alternative",
   "language": "python",
   "name": "python3"
  },
  "language_info": {
   "codemirror_mode": {
    "name": "ipython",
    "version": 3
   },
   "file_extension": ".py",
   "mimetype": "text/x-python",
   "name": "python",
   "nbconvert_exporter": "python",
   "pygments_lexer": "ipython3",
   "version": "3.10.7"
  }
 },
 "nbformat": 4,
 "nbformat_minor": 5
}
