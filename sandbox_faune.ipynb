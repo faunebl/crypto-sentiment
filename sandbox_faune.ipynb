{
 "cells": [
  {
   "cell_type": "markdown",
   "id": "94f30616",
   "metadata": {},
   "source": [
    "--- \n",
    "# Sandbox (Faune)\n",
    "Tests for each part of this project\n",
    "\n",
    "---"
   ]
  },
  {
   "cell_type": "markdown",
   "id": "1b0a7fa9",
   "metadata": {},
   "source": [
    "### Imports"
   ]
  },
  {
   "cell_type": "code",
   "execution_count": 1,
   "id": "c7f0d20b",
   "metadata": {},
   "outputs": [],
   "source": [
    "#external libraries\n",
    "import polars as pl\n",
    "from datetime import date\n",
    "import nest_asyncio\n",
    "import os\n",
    "\n",
    "#internal libraries\n",
    "from prompts import process_in_batches, import_data, preprocess_responses"
   ]
  },
  {
   "cell_type": "markdown",
   "id": "91afc85e",
   "metadata": {},
   "source": [
    "## Importing data test"
   ]
  },
  {
   "cell_type": "code",
   "execution_count": 2,
   "id": "c2d216d3",
   "metadata": {},
   "outputs": [],
   "source": [
    "titles = import_data()"
   ]
  },
  {
   "cell_type": "markdown",
   "id": "6d02e5b7",
   "metadata": {},
   "source": [
    "## Prompting test"
   ]
  },
  {
   "cell_type": "markdown",
   "id": "005d3290",
   "metadata": {},
   "source": [
    "### Basic sentences\n",
    "Adapted from the mistral website"
   ]
  },
  {
   "cell_type": "code",
   "execution_count": 3,
   "id": "d8d83713",
   "metadata": {},
   "outputs": [],
   "source": [
    "responses = preprocess_responses()"
   ]
  },
  {
   "cell_type": "code",
   "execution_count": 4,
   "id": "96c83ddb",
   "metadata": {},
   "outputs": [
    {
     "data": {
      "text/html": [
       "<div><style>\n",
       ".dataframe > thead > tr,\n",
       ".dataframe > tbody > tr {\n",
       "  text-align: right;\n",
       "  white-space: pre-wrap;\n",
       "}\n",
       "</style>\n",
       "<small>shape: (1_617, 5)</small><table border=\"1\" class=\"dataframe\"><thead><tr><th>date</th><th>increase</th><th>decrease</th><th>diff</th><th>score</th></tr><tr><td>date</td><td>i32</td><td>i32</td><td>i32</td><td>f64</td></tr></thead><tbody><tr><td>2017-09-29</td><td>0</td><td>1</td><td>-1</td><td>-1.0</td></tr><tr><td>2017-10-31</td><td>2</td><td>0</td><td>2</td><td>1.0</td></tr><tr><td>2017-11-12</td><td>1</td><td>0</td><td>1</td><td>1.0</td></tr><tr><td>2017-11-13</td><td>0</td><td>0</td><td>0</td><td>NaN</td></tr><tr><td>2017-11-14</td><td>0</td><td>1</td><td>-1</td><td>-1.0</td></tr><tr><td>&hellip;</td><td>&hellip;</td><td>&hellip;</td><td>&hellip;</td><td>&hellip;</td></tr><tr><td>2025-01-03</td><td>8</td><td>2</td><td>6</td><td>0.6</td></tr><tr><td>2025-01-04</td><td>1</td><td>0</td><td>1</td><td>1.0</td></tr><tr><td>2025-01-05</td><td>25</td><td>5</td><td>20</td><td>0.666667</td></tr><tr><td>2025-01-06</td><td>26</td><td>6</td><td>20</td><td>0.625</td></tr><tr><td>2025-01-07</td><td>34</td><td>11</td><td>23</td><td>0.511111</td></tr></tbody></table></div>"
      ],
      "text/plain": [
       "shape: (1_617, 5)\n",
       "┌────────────┬──────────┬──────────┬──────┬──────────┐\n",
       "│ date       ┆ increase ┆ decrease ┆ diff ┆ score    │\n",
       "│ ---        ┆ ---      ┆ ---      ┆ ---  ┆ ---      │\n",
       "│ date       ┆ i32      ┆ i32      ┆ i32  ┆ f64      │\n",
       "╞════════════╪══════════╪══════════╪══════╪══════════╡\n",
       "│ 2017-09-29 ┆ 0        ┆ 1        ┆ -1   ┆ -1.0     │\n",
       "│ 2017-10-31 ┆ 2        ┆ 0        ┆ 2    ┆ 1.0      │\n",
       "│ 2017-11-12 ┆ 1        ┆ 0        ┆ 1    ┆ 1.0      │\n",
       "│ 2017-11-13 ┆ 0        ┆ 0        ┆ 0    ┆ NaN      │\n",
       "│ 2017-11-14 ┆ 0        ┆ 1        ┆ -1   ┆ -1.0     │\n",
       "│ …          ┆ …        ┆ …        ┆ …    ┆ …        │\n",
       "│ 2025-01-03 ┆ 8        ┆ 2        ┆ 6    ┆ 0.6      │\n",
       "│ 2025-01-04 ┆ 1        ┆ 0        ┆ 1    ┆ 1.0      │\n",
       "│ 2025-01-05 ┆ 25       ┆ 5        ┆ 20   ┆ 0.666667 │\n",
       "│ 2025-01-06 ┆ 26       ┆ 6        ┆ 20   ┆ 0.625    │\n",
       "│ 2025-01-07 ┆ 34       ┆ 11       ┆ 23   ┆ 0.511111 │\n",
       "└────────────┴──────────┴──────────┴──────┴──────────┘"
      ]
     },
     "execution_count": 4,
     "metadata": {},
     "output_type": "execute_result"
    }
   ],
   "source": [
    "responses"
   ]
  },
  {
   "cell_type": "code",
   "execution_count": 22,
   "id": "c7e98288",
   "metadata": {},
   "outputs": [],
   "source": [
    "# testing on half of the dataset first\n",
    "titles = titles.filter(pl.col('date').lt(date(2024,1,1)))"
   ]
  },
  {
   "cell_type": "code",
   "execution_count": 23,
   "id": "0dec9e06",
   "metadata": {},
   "outputs": [
    {
     "data": {
      "text/html": [
       "<div><style>\n",
       ".dataframe > thead > tr,\n",
       ".dataframe > tbody > tr {\n",
       "  text-align: right;\n",
       "  white-space: pre-wrap;\n",
       "}\n",
       "</style>\n",
       "<small>shape: (8_934, 3)</small><table border=\"1\" class=\"dataframe\"><thead><tr><th>date</th><th>title</th><th>prompts</th></tr><tr><td>date</td><td>str</td><td>str</td></tr></thead><tbody><tr><td>2017-09-29</td><td>&quot;Edward Snowden: Zcash Is &#x27;Most…</td><td>&quot;\n",
       "&nbsp;&nbsp;&nbsp;&nbsp;Here is a piece of news:\n",
       "…</td></tr><tr><td>2017-10-31</td><td>&quot;Bitcoin Cash: Hard Fork Planne…</td><td>&quot;\n",
       "&nbsp;&nbsp;&nbsp;&nbsp;Here is a piece of news:\n",
       "…</td></tr><tr><td>2017-10-31</td><td>&quot;Bitcoin Cash Developers Propos…</td><td>&quot;\n",
       "&nbsp;&nbsp;&nbsp;&nbsp;Here is a piece of news:\n",
       "…</td></tr><tr><td>2017-11-12</td><td>&quot;Confusion and Euphoria As Bitc…</td><td>&quot;\n",
       "&nbsp;&nbsp;&nbsp;&nbsp;Here is a piece of news:\n",
       "…</td></tr><tr><td>2017-11-13</td><td>&quot;Bitcoin Cash Hard Forks In Bid…</td><td>&quot;\n",
       "&nbsp;&nbsp;&nbsp;&nbsp;Here is a piece of news:\n",
       "…</td></tr><tr><td>&hellip;</td><td>&hellip;</td><td>&hellip;</td></tr><tr><td>2023-12-30</td><td>&quot;Bitcoin vs Cardano: Unveiling …</td><td>&quot;\n",
       "&nbsp;&nbsp;&nbsp;&nbsp;Here is a piece of news:\n",
       "…</td></tr><tr><td>2023-12-30</td><td>&quot;SEC May Soon Inform BlackRock …</td><td>&quot;\n",
       "&nbsp;&nbsp;&nbsp;&nbsp;Here is a piece of news:\n",
       "…</td></tr><tr><td>2023-12-30</td><td>&quot;Spot ETF Approval By Q1 2024 T…</td><td>&quot;\n",
       "&nbsp;&nbsp;&nbsp;&nbsp;Here is a piece of news:\n",
       "…</td></tr><tr><td>2023-12-31</td><td>&quot;Privacy-Focused Altcoins Suffe…</td><td>&quot;\n",
       "&nbsp;&nbsp;&nbsp;&nbsp;Here is a piece of news:\n",
       "…</td></tr><tr><td>2023-12-31</td><td>&quot;Crypto Capital Rotation: A How…</td><td>&quot;\n",
       "&nbsp;&nbsp;&nbsp;&nbsp;Here is a piece of news:\n",
       "…</td></tr></tbody></table></div>"
      ],
      "text/plain": [
       "shape: (8_934, 3)\n",
       "┌────────────┬─────────────────────────────────┬──────────────────────────────┐\n",
       "│ date       ┆ title                           ┆ prompts                      │\n",
       "│ ---        ┆ ---                             ┆ ---                          │\n",
       "│ date       ┆ str                             ┆ str                          │\n",
       "╞════════════╪═════════════════════════════════╪══════════════════════════════╡\n",
       "│ 2017-09-29 ┆ Edward Snowden: Zcash Is 'Most… ┆                              │\n",
       "│            ┆                                 ┆     Here is a piece of news: │\n",
       "│            ┆                                 ┆ …                            │\n",
       "│ 2017-10-31 ┆ Bitcoin Cash: Hard Fork Planne… ┆                              │\n",
       "│            ┆                                 ┆     Here is a piece of news: │\n",
       "│            ┆                                 ┆ …                            │\n",
       "│ 2017-10-31 ┆ Bitcoin Cash Developers Propos… ┆                              │\n",
       "│            ┆                                 ┆     Here is a piece of news: │\n",
       "│            ┆                                 ┆ …                            │\n",
       "│ 2017-11-12 ┆ Confusion and Euphoria As Bitc… ┆                              │\n",
       "│            ┆                                 ┆     Here is a piece of news: │\n",
       "│            ┆                                 ┆ …                            │\n",
       "│ 2017-11-13 ┆ Bitcoin Cash Hard Forks In Bid… ┆                              │\n",
       "│            ┆                                 ┆     Here is a piece of news: │\n",
       "│            ┆                                 ┆ …                            │\n",
       "│ …          ┆ …                               ┆ …                            │\n",
       "│ 2023-12-30 ┆ Bitcoin vs Cardano: Unveiling … ┆                              │\n",
       "│            ┆                                 ┆     Here is a piece of news: │\n",
       "│            ┆                                 ┆ …                            │\n",
       "│ 2023-12-30 ┆ SEC May Soon Inform BlackRock … ┆                              │\n",
       "│            ┆                                 ┆     Here is a piece of news: │\n",
       "│            ┆                                 ┆ …                            │\n",
       "│ 2023-12-30 ┆ Spot ETF Approval By Q1 2024 T… ┆                              │\n",
       "│            ┆                                 ┆     Here is a piece of news: │\n",
       "│            ┆                                 ┆ …                            │\n",
       "│ 2023-12-31 ┆ Privacy-Focused Altcoins Suffe… ┆                              │\n",
       "│            ┆                                 ┆     Here is a piece of news: │\n",
       "│            ┆                                 ┆ …                            │\n",
       "│ 2023-12-31 ┆ Crypto Capital Rotation: A How… ┆                              │\n",
       "│            ┆                                 ┆     Here is a piece of news: │\n",
       "│            ┆                                 ┆ …                            │\n",
       "└────────────┴─────────────────────────────────┴──────────────────────────────┘"
      ]
     },
     "execution_count": 23,
     "metadata": {},
     "output_type": "execute_result"
    }
   ],
   "source": [
    "titles"
   ]
  },
  {
   "cell_type": "code",
   "execution_count": 24,
   "id": "342dfd0f",
   "metadata": {},
   "outputs": [
    {
     "name": "stdout",
     "output_type": "stream",
     "text": [
      "Processing prompts 0 to 199...\n",
      "Wrote 200 rows to responses_2017_2024.csv\n",
      "Processing prompts 200 to 399...\n",
      "Wrote 200 rows to responses_2017_2024.csv\n",
      "Processing prompts 400 to 599...\n",
      "Wrote 200 rows to responses_2017_2024.csv\n",
      "Processing prompts 600 to 799...\n",
      "Wrote 200 rows to responses_2017_2024.csv\n",
      "Processing prompts 800 to 999...\n",
      "Wrote 200 rows to responses_2017_2024.csv\n",
      "Processing prompts 1000 to 1199...\n",
      "Wrote 200 rows to responses_2017_2024.csv\n",
      "Processing prompts 1200 to 1399...\n",
      "Wrote 200 rows to responses_2017_2024.csv\n",
      "Processing prompts 1400 to 1599...\n",
      "Wrote 200 rows to responses_2017_2024.csv\n",
      "Processing prompts 1600 to 1799...\n",
      "Wrote 200 rows to responses_2017_2024.csv\n",
      "Processing prompts 1800 to 1999...\n",
      "Wrote 200 rows to responses_2017_2024.csv\n",
      "Processing prompts 2000 to 2199...\n",
      "Wrote 200 rows to responses_2017_2024.csv\n",
      "Processing prompts 2200 to 2399...\n",
      "Wrote 200 rows to responses_2017_2024.csv\n",
      "Processing prompts 2400 to 2599...\n",
      "Wrote 200 rows to responses_2017_2024.csv\n",
      "Processing prompts 2600 to 2799...\n",
      "Wrote 200 rows to responses_2017_2024.csv\n",
      "Processing prompts 2800 to 2999...\n",
      "Wrote 200 rows to responses_2017_2024.csv\n",
      "Processing prompts 3000 to 3199...\n",
      "Wrote 200 rows to responses_2017_2024.csv\n",
      "Processing prompts 3200 to 3399...\n",
      "Wrote 200 rows to responses_2017_2024.csv\n",
      "Processing prompts 3400 to 3599...\n",
      "Wrote 200 rows to responses_2017_2024.csv\n",
      "Processing prompts 3600 to 3799...\n",
      "Wrote 200 rows to responses_2017_2024.csv\n",
      "Processing prompts 3800 to 3999...\n",
      "Wrote 200 rows to responses_2017_2024.csv\n",
      "Processing prompts 4000 to 4199...\n",
      "Wrote 200 rows to responses_2017_2024.csv\n",
      "Processing prompts 4200 to 4399...\n",
      "Wrote 200 rows to responses_2017_2024.csv\n",
      "Processing prompts 4400 to 4599...\n",
      "Wrote 200 rows to responses_2017_2024.csv\n",
      "Processing prompts 4600 to 4799...\n",
      "Wrote 200 rows to responses_2017_2024.csv\n",
      "Processing prompts 4800 to 4999...\n",
      "Wrote 200 rows to responses_2017_2024.csv\n",
      "Processing prompts 5000 to 5199...\n",
      "Wrote 200 rows to responses_2017_2024.csv\n",
      "Processing prompts 5200 to 5399...\n",
      "Wrote 200 rows to responses_2017_2024.csv\n",
      "Processing prompts 5400 to 5599...\n",
      "Wrote 200 rows to responses_2017_2024.csv\n",
      "Processing prompts 5600 to 5799...\n",
      "Wrote 200 rows to responses_2017_2024.csv\n",
      "Processing prompts 5800 to 5999...\n",
      "Wrote 200 rows to responses_2017_2024.csv\n",
      "Processing prompts 6000 to 6199...\n",
      "Wrote 200 rows to responses_2017_2024.csv\n",
      "Processing prompts 6200 to 6399...\n",
      "Wrote 200 rows to responses_2017_2024.csv\n",
      "Processing prompts 6400 to 6599...\n",
      "Wrote 200 rows to responses_2017_2024.csv\n",
      "Processing prompts 6600 to 6799...\n",
      "Wrote 200 rows to responses_2017_2024.csv\n",
      "Processing prompts 6800 to 6999...\n",
      "Wrote 200 rows to responses_2017_2024.csv\n",
      "Processing prompts 7000 to 7199...\n",
      "Wrote 200 rows to responses_2017_2024.csv\n",
      "Processing prompts 7200 to 7399...\n",
      "Wrote 200 rows to responses_2017_2024.csv\n",
      "Processing prompts 7400 to 7599...\n",
      "Wrote 200 rows to responses_2017_2024.csv\n",
      "Processing prompts 7600 to 7799...\n",
      "Wrote 200 rows to responses_2017_2024.csv\n",
      "Processing prompts 7800 to 7999...\n",
      "Wrote 200 rows to responses_2017_2024.csv\n",
      "Processing prompts 8000 to 8199...\n",
      "Wrote 200 rows to responses_2017_2024.csv\n",
      "Processing prompts 8200 to 8399...\n",
      "Wrote 200 rows to responses_2017_2024.csv\n",
      "Processing prompts 8400 to 8599...\n",
      "Wrote 200 rows to responses_2017_2024.csv\n",
      "Processing prompts 8600 to 8799...\n",
      "Wrote 200 rows to responses_2017_2024.csv\n",
      "Processing prompts 8800 to 8933...\n",
      "Wrote 134 rows to responses_2017_2024.csv\n"
     ]
    }
   ],
   "source": [
    "nest_asyncio.apply()\n",
    "prompts = titles.select('prompts').to_series().to_list()\n",
    "csv_path = \"responses_2017_2024.csv\"\n",
    "first_write = not os.path.exists(csv_path)\n",
    "\n",
    "async for batch in process_in_batches(prompts, batch_size=200, concurrency=10):\n",
    "    batch_df = pl.DataFrame({\n",
    "        \"index\": [r[0] for r in batch],\n",
    "        \"prompt\": [r[1] for r in batch],\n",
    "        \"response\": [r[2] for r in batch],\n",
    "    })\n",
    "\n",
    "    csv_string = batch_df.write_csv(separator=\",\", include_header=first_write)\n",
    "    with open(csv_path, \"a\", encoding=\"utf-8\") as f:\n",
    "        f.write(csv_string)\n",
    "\n",
    "    first_write = False\n",
    "    print(f\"Wrote {len(batch)} rows to {csv_path}\")\n"
   ]
  },
  {
   "cell_type": "code",
   "execution_count": 10,
   "id": "15e24b46",
   "metadata": {},
   "outputs": [],
   "source": [
    "responses = (\n",
    "    pl.read_csv('responses_2024_2025.csv')\n",
    "    .with_columns(\n",
    "        pl.when(pl.col('response').str.slice(0,10).str.to_lowercase().str.contains('increase')).then(1).otherwise(0).alias('increase'),\n",
    "        pl.when(pl.col('response').str.slice(0,10).str.to_lowercase().str.contains('decrease')).then(1).otherwise(0).alias('decrease'),\n",
    "        pl.when(pl.col('response').str.slice(0,10).str.contains('[ERROR]')).then(1).otherwise(0).alias('error'),\n",
    "    )\n",
    ")"
   ]
  },
  {
   "cell_type": "code",
   "execution_count": 11,
   "id": "1b1e37c4",
   "metadata": {},
   "outputs": [],
   "source": [
    "to_analyze = pl.concat([responses, titles], how='horizontal').select('date', 'title', 'increase', 'decrease', 'error')"
   ]
  },
  {
   "cell_type": "code",
   "execution_count": 19,
   "id": "02afdc64",
   "metadata": {},
   "outputs": [
    {
     "data": {
      "text/html": [
       "<div><style>\n",
       ".dataframe > thead > tr,\n",
       ".dataframe > tbody > tr {\n",
       "  text-align: right;\n",
       "  white-space: pre-wrap;\n",
       "}\n",
       "</style>\n",
       "<small>shape: (373, 5)</small><table border=\"1\" class=\"dataframe\"><thead><tr><th>date</th><th>increase</th><th>decrease</th><th>diff</th><th>score</th></tr><tr><td>date</td><td>i32</td><td>i32</td><td>i32</td><td>f64</td></tr></thead><tbody><tr><td>2024-01-01</td><td>7</td><td>3</td><td>4</td><td>0.4</td></tr><tr><td>2024-01-02</td><td>10</td><td>1</td><td>9</td><td>0.818182</td></tr><tr><td>2024-01-03</td><td>7</td><td>8</td><td>-1</td><td>-0.066667</td></tr><tr><td>2024-01-04</td><td>6</td><td>0</td><td>6</td><td>1.0</td></tr><tr><td>2024-01-05</td><td>11</td><td>2</td><td>9</td><td>0.692308</td></tr><tr><td>&hellip;</td><td>&hellip;</td><td>&hellip;</td><td>&hellip;</td><td>&hellip;</td></tr><tr><td>2025-01-03</td><td>10</td><td>2</td><td>8</td><td>0.666667</td></tr><tr><td>2025-01-04</td><td>6</td><td>0</td><td>6</td><td>1.0</td></tr><tr><td>2025-01-05</td><td>2</td><td>1</td><td>1</td><td>0.333333</td></tr><tr><td>2025-01-06</td><td>12</td><td>1</td><td>11</td><td>0.846154</td></tr><tr><td>2025-01-07</td><td>33</td><td>16</td><td>17</td><td>0.346939</td></tr></tbody></table></div>"
      ],
      "text/plain": [
       "shape: (373, 5)\n",
       "┌────────────┬──────────┬──────────┬──────┬───────────┐\n",
       "│ date       ┆ increase ┆ decrease ┆ diff ┆ score     │\n",
       "│ ---        ┆ ---      ┆ ---      ┆ ---  ┆ ---       │\n",
       "│ date       ┆ i32      ┆ i32      ┆ i32  ┆ f64       │\n",
       "╞════════════╪══════════╪══════════╪══════╪═══════════╡\n",
       "│ 2024-01-01 ┆ 7        ┆ 3        ┆ 4    ┆ 0.4       │\n",
       "│ 2024-01-02 ┆ 10       ┆ 1        ┆ 9    ┆ 0.818182  │\n",
       "│ 2024-01-03 ┆ 7        ┆ 8        ┆ -1   ┆ -0.066667 │\n",
       "│ 2024-01-04 ┆ 6        ┆ 0        ┆ 6    ┆ 1.0       │\n",
       "│ 2024-01-05 ┆ 11       ┆ 2        ┆ 9    ┆ 0.692308  │\n",
       "│ …          ┆ …        ┆ …        ┆ …    ┆ …         │\n",
       "│ 2025-01-03 ┆ 10       ┆ 2        ┆ 8    ┆ 0.666667  │\n",
       "│ 2025-01-04 ┆ 6        ┆ 0        ┆ 6    ┆ 1.0       │\n",
       "│ 2025-01-05 ┆ 2        ┆ 1        ┆ 1    ┆ 0.333333  │\n",
       "│ 2025-01-06 ┆ 12       ┆ 1        ┆ 11   ┆ 0.846154  │\n",
       "│ 2025-01-07 ┆ 33       ┆ 16       ┆ 17   ┆ 0.346939  │\n",
       "└────────────┴──────────┴──────────┴──────┴───────────┘"
      ]
     },
     "execution_count": 19,
     "metadata": {},
     "output_type": "execute_result"
    }
   ],
   "source": [
    "(\n",
    "    to_analyze\n",
    "    .select('date', 'increase', 'decrease')\n",
    "    .with_columns(diff = pl.col('increase').sub(pl.col('decrease')))\n",
    "    .group_by('date')\n",
    "    .sum()\n",
    "    .with_columns(score = pl.col('diff') / (pl.col('increase').add(pl.col('decrease'))))\n",
    "    .sort('date')\n",
    ")"
   ]
  },
  {
   "cell_type": "code",
   "execution_count": 12,
   "id": "4d18696a",
   "metadata": {},
   "outputs": [
    {
     "data": {
      "text/html": [
       "<div><style>\n",
       ".dataframe > thead > tr,\n",
       ".dataframe > tbody > tr {\n",
       "  text-align: right;\n",
       "  white-space: pre-wrap;\n",
       "}\n",
       "</style>\n",
       "<small>shape: (9, 3)</small><table border=\"1\" class=\"dataframe\"><thead><tr><th>statistic</th><th>date</th><th>error</th></tr><tr><td>str</td><td>str</td><td>f64</td></tr></thead><tbody><tr><td>&quot;count&quot;</td><td>&quot;373&quot;</td><td>373.0</td></tr><tr><td>&quot;null_count&quot;</td><td>&quot;0&quot;</td><td>0.0</td></tr><tr><td>&quot;mean&quot;</td><td>&quot;2024-07-05 00:00:00&quot;</td><td>14.691689</td></tr><tr><td>&quot;std&quot;</td><td>null</td><td>21.385953</td></tr><tr><td>&quot;min&quot;</td><td>&quot;2024-01-01&quot;</td><td>0.0</td></tr><tr><td>&quot;25%&quot;</td><td>&quot;2024-04-03&quot;</td><td>0.0</td></tr><tr><td>&quot;50%&quot;</td><td>&quot;2024-07-05&quot;</td><td>6.0</td></tr><tr><td>&quot;75%&quot;</td><td>&quot;2024-10-06&quot;</td><td>24.0</td></tr><tr><td>&quot;max&quot;</td><td>&quot;2025-01-07&quot;</td><td>174.0</td></tr></tbody></table></div>"
      ],
      "text/plain": [
       "shape: (9, 3)\n",
       "┌────────────┬─────────────────────┬───────────┐\n",
       "│ statistic  ┆ date                ┆ error     │\n",
       "│ ---        ┆ ---                 ┆ ---       │\n",
       "│ str        ┆ str                 ┆ f64       │\n",
       "╞════════════╪═════════════════════╪═══════════╡\n",
       "│ count      ┆ 373                 ┆ 373.0     │\n",
       "│ null_count ┆ 0                   ┆ 0.0       │\n",
       "│ mean       ┆ 2024-07-05 00:00:00 ┆ 14.691689 │\n",
       "│ std        ┆ null                ┆ 21.385953 │\n",
       "│ min        ┆ 2024-01-01          ┆ 0.0       │\n",
       "│ 25%        ┆ 2024-04-03          ┆ 0.0       │\n",
       "│ 50%        ┆ 2024-07-05          ┆ 6.0       │\n",
       "│ 75%        ┆ 2024-10-06          ┆ 24.0      │\n",
       "│ max        ┆ 2025-01-07          ┆ 174.0     │\n",
       "└────────────┴─────────────────────┴───────────┘"
      ]
     },
     "execution_count": 12,
     "metadata": {},
     "output_type": "execute_result"
    }
   ],
   "source": [
    "to_analyze.select('date', 'error').group_by('date').sum().describe()"
   ]
  },
  {
   "cell_type": "code",
   "execution_count": 9,
   "id": "9cb44070",
   "metadata": {},
   "outputs": [
    {
     "data": {
      "text/html": [
       "<div><style>\n",
       ".dataframe > thead > tr,\n",
       ".dataframe > tbody > tr {\n",
       "  text-align: right;\n",
       "  white-space: pre-wrap;\n",
       "}\n",
       "</style>\n",
       "<small>shape: (11_642, 1)</small><table border=\"1\" class=\"dataframe\"><thead><tr><th>response</th></tr><tr><td>str</td></tr></thead><tbody><tr><td>&quot;{decrease}&quot;</td></tr><tr><td>&quot;{increase}&quot;</td></tr><tr><td>&quot;{increase}&quot;</td></tr><tr><td>&quot;{increase}&quot;</td></tr><tr><td>&quot;{uncertain&quot;</td></tr><tr><td>&hellip;</td></tr><tr><td>&quot;{decrease}&quot;</td></tr><tr><td>&quot;{increase:&quot;</td></tr><tr><td>&quot;[ERROR] AP&quot;</td></tr><tr><td>&quot;[ERROR] AP&quot;</td></tr><tr><td>&quot;[ERROR] AP&quot;</td></tr></tbody></table></div>"
      ],
      "text/plain": [
       "shape: (11_642, 1)\n",
       "┌────────────┐\n",
       "│ response   │\n",
       "│ ---        │\n",
       "│ str        │\n",
       "╞════════════╡\n",
       "│ {decrease} │\n",
       "│ {increase} │\n",
       "│ {increase} │\n",
       "│ {increase} │\n",
       "│ {uncertain │\n",
       "│ …          │\n",
       "│ {decrease} │\n",
       "│ {increase: │\n",
       "│ [ERROR] AP │\n",
       "│ [ERROR] AP │\n",
       "│ [ERROR] AP │\n",
       "└────────────┘"
      ]
     },
     "execution_count": 9,
     "metadata": {},
     "output_type": "execute_result"
    }
   ],
   "source": [
    "pl.read_csv('responses_2024_2025.csv').select(pl.col('response').str.slice(0,10))"
   ]
  },
  {
   "cell_type": "code",
   "execution_count": null,
   "id": "765390c0",
   "metadata": {},
   "outputs": [],
   "source": []
  }
 ],
 "metadata": {
  "kernelspec": {
   "display_name": "crypto-sentiment",
   "language": "python",
   "name": "python3"
  },
  "language_info": {
   "codemirror_mode": {
    "name": "ipython",
    "version": 3
   },
   "file_extension": ".py",
   "mimetype": "text/x-python",
   "name": "python",
   "nbconvert_exporter": "python",
   "pygments_lexer": "ipython3",
   "version": "3.11.11"
  }
 },
 "nbformat": 4,
 "nbformat_minor": 5
}
