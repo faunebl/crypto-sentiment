{
 "cells": [
  {
   "cell_type": "markdown",
   "id": "94f30616",
   "metadata": {},
   "source": [
    "--- \n",
    "# Sandbox (Faune)\n",
    "Tests for each part of this project\n",
    "\n",
    "---"
   ]
  },
  {
   "cell_type": "markdown",
   "id": "1b0a7fa9",
   "metadata": {},
   "source": [
    "### Imports"
   ]
  },
  {
   "cell_type": "code",
   "execution_count": null,
   "id": "c7f0d20b",
   "metadata": {},
   "outputs": [],
   "source": [
    "#external libraries\n",
    "import polars as pl\n",
    "from dask.distributed import Client, as_completed\n",
    "\n",
    "#internal libraries\n",
    "from prompts import run_async_query"
   ]
  },
  {
   "cell_type": "markdown",
   "id": "91afc85e",
   "metadata": {},
   "source": [
    "## Importing data test"
   ]
  },
  {
   "cell_type": "code",
   "execution_count": 20,
   "id": "c2b80813",
   "metadata": {},
   "outputs": [],
   "source": [
    "titles = pl.read_csv(source=r\"data\\cryptopanic_news.csv\").select(pl.col(\"id\").alias('newsId'), \"title\", \"newsDatetime\")\n",
    "currency = pl.read_csv(r\"data\\currency.csv\").rename({'id':'currencyId'})\n",
    "ids = pl.read_csv(r\"data\\news__currency.csv\")"
   ]
  },
  {
   "cell_type": "code",
   "execution_count": 46,
   "id": "af36a293",
   "metadata": {},
   "outputs": [],
   "source": [
    "test_list = (\n",
    "    titles\n",
    "    .join(ids, on=\"newsId\")\n",
    "    .join(currency, on='currencyId')\n",
    "    .filter(pl.col(\"code\").eq('BTC'))\n",
    "    .with_columns(\n",
    "        pl.col('newsDatetime').str.to_datetime().cast(pl.Date).alias('date')\n",
    "    )\n",
    "    .sort('newsDatetime')\n",
    "    .select('date','title')\n",
    "    .with_columns(\n",
    "        prompts = pl.lit(\"\"\"\n",
    "Here is a piece of news:\n",
    "\"%s\"\n",
    "Do you think this news will increase or decrease %s?\n",
    "Write your answer as:\n",
    "{increase/decrease/uncertain}:\n",
    "{confidence (0-1)}:\n",
    "{magnitude of increase/decrease (0-1)}:\n",
    "{explanation (less than 25 words)}\n",
    "        \"\"\")\n",
    "    )\n",
    "    .with_columns(pl.col('prompts').str.replace(r'%s', pl.col('title')))\n",
    "    .with_columns(pl.col('prompts').str.replace(r'%s', \"BTC\"))\n",
    ").select('prompts').to_series().to_list()[:3]"
   ]
  },
  {
   "cell_type": "markdown",
   "id": "6d02e5b7",
   "metadata": {},
   "source": [
    "## Prompting test"
   ]
  },
  {
   "cell_type": "markdown",
   "id": "005d3290",
   "metadata": {},
   "source": [
    "### Basic sentences\n",
    "Adapted from the mistral website"
   ]
  },
  {
   "cell_type": "code",
   "execution_count": null,
   "id": "342dfd0f",
   "metadata": {},
   "outputs": [
    {
     "name": "stdout",
     "output_type": "stream",
     "text": [
      "\n",
      "--- Result ---\n",
      " {increase}: {confidence (0.3)}: {magnitude of increase (0.1)}: This could potentially lead to a minor increase in BTC as a hard fork in Bitcoin Cash might encourage investors to hold more BTC as a safer alternative.\n",
      "\n",
      "This response is based on general market behavior and should not be taken as financial advice. Always do your own research before making investment decisions.\n",
      "\n",
      "--- Result ---\n",
      " {increase: uncertain}\n",
      "{confidence (0-1): 0.3}\n",
      "{magnitude of increase/decrease (0-1): 0.1}\n",
      "The mention of Zcash as an alternative to Bitcoin might not have a significant impact on Bitcoin's price, as it is not directly comparing Bitcoin to itself. However, if it sparks interest in privacy-focused cryptocurrencies, there might be a minor positive effect on Bitcoin due to increased overall market interest.\n",
      "\n",
      "--- Result ---\n",
      " {increase}: {0.3}\n",
      "{magnitude of increase (0-1)}: {0.1}\n",
      "The forking of Bitcoin Cash might divert mining resources away from Bitcoin, potentially leading to a slightly increased scarcity and therefore value of Bitcoin. However, this effect is not likely to be significant.\n"
     ]
    }
   ],
   "source": [
    "with Client() as client:\n",
    "    prompts = test_list\n",
    "\n",
    "    # submit\n",
    "    futures = [client.submit(run_async_query, prompt) for prompt in prompts]\n",
    "\n",
    "    # display\n",
    "    for future in as_completed(futures):\n",
    "        result = future.result()\n",
    "        print(\"\\n--- Result ---\\n\", result) # store somewhere instead "
   ]
  },
  {
   "cell_type": "markdown",
   "id": "fe6b4fe1",
   "metadata": {},
   "source": []
  }
 ],
 "metadata": {
  "kernelspec": {
   "display_name": "crypto-sentiment",
   "language": "python",
   "name": "python3"
  },
  "language_info": {
   "codemirror_mode": {
    "name": "ipython",
    "version": 3
   },
   "file_extension": ".py",
   "mimetype": "text/x-python",
   "name": "python",
   "nbconvert_exporter": "python",
   "pygments_lexer": "ipython3",
   "version": "3.11.11"
  }
 },
 "nbformat": 4,
 "nbformat_minor": 5
}
