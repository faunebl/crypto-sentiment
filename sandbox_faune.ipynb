{
 "cells": [
  {
   "cell_type": "markdown",
   "id": "94f30616",
   "metadata": {},
   "source": [
    "--- \n",
    "# Sandbox (Faune)\n",
    "Tests for each part of this project\n",
    "\n",
    "---"
   ]
  },
  {
   "cell_type": "markdown",
   "id": "1b0a7fa9",
   "metadata": {},
   "source": [
    "### Imports"
   ]
  },
  {
   "cell_type": "code",
   "execution_count": 1,
   "id": "c7f0d20b",
   "metadata": {},
   "outputs": [],
   "source": [
    "#external libraries\n",
    "import polars as pl\n",
    "from datetime import date\n",
    "import nest_asyncio\n",
    "\n",
    "#internal libraries\n",
    "from prompts import process_in_batches, import_data"
   ]
  },
  {
   "cell_type": "markdown",
   "id": "91afc85e",
   "metadata": {},
   "source": [
    "## Importing data test"
   ]
  },
  {
   "cell_type": "code",
   "execution_count": 3,
   "id": "c2d216d3",
   "metadata": {},
   "outputs": [],
   "source": [
    "titles = import_data()"
   ]
  },
  {
   "cell_type": "markdown",
   "id": "6d02e5b7",
   "metadata": {},
   "source": [
    "## Prompting test"
   ]
  },
  {
   "cell_type": "markdown",
   "id": "005d3290",
   "metadata": {},
   "source": [
    "### Basic sentences\n",
    "Adapted from the mistral website"
   ]
  },
  {
   "cell_type": "code",
   "execution_count": 9,
   "id": "c7e98288",
   "metadata": {},
   "outputs": [],
   "source": [
    "# testing on half of the dataset first\n",
    "titles = titles.filter(pl.col('date').ge(date(2024,1,1)))"
   ]
  },
  {
   "cell_type": "code",
   "execution_count": 10,
   "id": "342dfd0f",
   "metadata": {},
   "outputs": [
    {
     "name": "stdout",
     "output_type": "stream",
     "text": [
      "Processing prompts 0 to 999...\n",
      "Saved batch of 1000 rows.\n",
      "Processing prompts 1000 to 1999...\n",
      "Saved batch of 1000 rows.\n",
      "Processing prompts 2000 to 2999...\n",
      "Saved batch of 1000 rows.\n",
      "Processing prompts 3000 to 3999...\n",
      "Saved batch of 1000 rows.\n",
      "Processing prompts 4000 to 4999...\n",
      "Saved batch of 1000 rows.\n",
      "Processing prompts 5000 to 5999...\n",
      "Saved batch of 1000 rows.\n",
      "Processing prompts 6000 to 6999...\n",
      "Saved batch of 1000 rows.\n",
      "Processing prompts 7000 to 7999...\n",
      "Saved batch of 1000 rows.\n",
      "Processing prompts 8000 to 8999...\n",
      "Saved batch of 1000 rows.\n",
      "Processing prompts 9000 to 9999...\n",
      "Saved batch of 1000 rows.\n",
      "Processing prompts 10000 to 10999...\n",
      "Saved batch of 1000 rows.\n",
      "Processing prompts 11000 to 11641...\n",
      "Saved batch of 642 rows.\n"
     ]
    }
   ],
   "source": [
    "prompts = titles.select('prompts').to_series().to_list()\n",
    "\n",
    "nest_asyncio.apply()\n",
    "\n",
    "async for batch in process_in_batches(prompts, batch_size=1000, concurrency=50):\n",
    "    batch_df = pl.DataFrame({\n",
    "        \"index\": [r[0] for r in batch],\n",
    "        \"prompt\": [r[1] for r in batch],\n",
    "        \"response\": [r[2] for r in batch],\n",
    "    })\n",
    "    batch_df.write_parquet(\"responses.parquet\")\n",
    "    print(f\"Saved batch of {len(batch)} rows.\")\n",
    "\n"
   ]
  },
  {
   "cell_type": "code",
   "execution_count": 13,
   "id": "15e24b46",
   "metadata": {},
   "outputs": [
    {
     "data": {
      "text/html": [
       "<div><style>\n",
       ".dataframe > thead > tr,\n",
       ".dataframe > tbody > tr {\n",
       "  text-align: right;\n",
       "  white-space: pre-wrap;\n",
       "}\n",
       "</style>\n",
       "<small>shape: (642, 3)</small><table border=\"1\" class=\"dataframe\"><thead><tr><th>index</th><th>prompt</th><th>response</th></tr><tr><td>i64</td><td>str</td><td>str</td></tr></thead><tbody><tr><td>11000</td><td>&quot;\n",
       "&nbsp;&nbsp;&nbsp;&nbsp;Here is a piece of news:\n",
       "…</td><td>&quot;[ERROR] API error occurred: St…</td></tr><tr><td>11001</td><td>&quot;\n",
       "&nbsp;&nbsp;&nbsp;&nbsp;Here is a piece of news:\n",
       "…</td><td>&quot;{uncertain:1.0}\n",
       "{confidence (0…</td></tr><tr><td>11002</td><td>&quot;\n",
       "&nbsp;&nbsp;&nbsp;&nbsp;Here is a piece of news:\n",
       "…</td><td>&quot;{uncertain}: {0.5}: {0.25}: Th…</td></tr><tr><td>11003</td><td>&quot;\n",
       "&nbsp;&nbsp;&nbsp;&nbsp;Here is a piece of news:\n",
       "…</td><td>&quot;{increase}:\n",
       "{confidence (0.6)}…</td></tr><tr><td>11004</td><td>&quot;\n",
       "&nbsp;&nbsp;&nbsp;&nbsp;Here is a piece of news:\n",
       "…</td><td>&quot;{increase}:\n",
       "{confidence (0.4)}…</td></tr><tr><td>&hellip;</td><td>&hellip;</td><td>&hellip;</td></tr><tr><td>11637</td><td>&quot;\n",
       "&nbsp;&nbsp;&nbsp;&nbsp;Here is a piece of news:\n",
       "…</td><td>&quot;[ERROR] API error occurred: St…</td></tr><tr><td>11638</td><td>&quot;\n",
       "&nbsp;&nbsp;&nbsp;&nbsp;Here is a piece of news:\n",
       "…</td><td>&quot;[ERROR] API error occurred: St…</td></tr><tr><td>11639</td><td>&quot;\n",
       "&nbsp;&nbsp;&nbsp;&nbsp;Here is a piece of news:\n",
       "…</td><td>&quot;[ERROR] API error occurred: St…</td></tr><tr><td>11640</td><td>&quot;\n",
       "&nbsp;&nbsp;&nbsp;&nbsp;Here is a piece of news:\n",
       "…</td><td>&quot;[ERROR] API error occurred: St…</td></tr><tr><td>11641</td><td>&quot;\n",
       "&nbsp;&nbsp;&nbsp;&nbsp;Here is a piece of news:\n",
       "…</td><td>&quot;[ERROR] API error occurred: St…</td></tr></tbody></table></div>"
      ],
      "text/plain": [
       "shape: (642, 3)\n",
       "┌───────┬──────────────────────────────┬─────────────────────────────────┐\n",
       "│ index ┆ prompt                       ┆ response                        │\n",
       "│ ---   ┆ ---                          ┆ ---                             │\n",
       "│ i64   ┆ str                          ┆ str                             │\n",
       "╞═══════╪══════════════════════════════╪═════════════════════════════════╡\n",
       "│ 11000 ┆                              ┆ [ERROR] API error occurred: St… │\n",
       "│       ┆     Here is a piece of news: ┆                                 │\n",
       "│       ┆ …                            ┆                                 │\n",
       "│ 11001 ┆                              ┆ {uncertain:1.0}                 │\n",
       "│       ┆     Here is a piece of news: ┆ {confidence (0…                 │\n",
       "│       ┆ …                            ┆                                 │\n",
       "│ 11002 ┆                              ┆ {uncertain}: {0.5}: {0.25}: Th… │\n",
       "│       ┆     Here is a piece of news: ┆                                 │\n",
       "│       ┆ …                            ┆                                 │\n",
       "│ 11003 ┆                              ┆ {increase}:                     │\n",
       "│       ┆     Here is a piece of news: ┆ {confidence (0.6)}…             │\n",
       "│       ┆ …                            ┆                                 │\n",
       "│ 11004 ┆                              ┆ {increase}:                     │\n",
       "│       ┆     Here is a piece of news: ┆ {confidence (0.4)}…             │\n",
       "│       ┆ …                            ┆                                 │\n",
       "│ …     ┆ …                            ┆ …                               │\n",
       "│ 11637 ┆                              ┆ [ERROR] API error occurred: St… │\n",
       "│       ┆     Here is a piece of news: ┆                                 │\n",
       "│       ┆ …                            ┆                                 │\n",
       "│ 11638 ┆                              ┆ [ERROR] API error occurred: St… │\n",
       "│       ┆     Here is a piece of news: ┆                                 │\n",
       "│       ┆ …                            ┆                                 │\n",
       "│ 11639 ┆                              ┆ [ERROR] API error occurred: St… │\n",
       "│       ┆     Here is a piece of news: ┆                                 │\n",
       "│       ┆ …                            ┆                                 │\n",
       "│ 11640 ┆                              ┆ [ERROR] API error occurred: St… │\n",
       "│       ┆     Here is a piece of news: ┆                                 │\n",
       "│       ┆ …                            ┆                                 │\n",
       "│ 11641 ┆                              ┆ [ERROR] API error occurred: St… │\n",
       "│       ┆     Here is a piece of news: ┆                                 │\n",
       "│       ┆ …                            ┆                                 │\n",
       "└───────┴──────────────────────────────┴─────────────────────────────────┘"
      ]
     },
     "execution_count": 13,
     "metadata": {},
     "output_type": "execute_result"
    }
   ],
   "source": [
    "pl.read_parquet('responses.parquet')"
   ]
  },
  {
   "cell_type": "code",
   "execution_count": null,
   "id": "9cb44070",
   "metadata": {},
   "outputs": [],
   "source": []
  }
 ],
 "metadata": {
  "kernelspec": {
   "display_name": "crypto-sentiment",
   "language": "python",
   "name": "python3"
  },
  "language_info": {
   "codemirror_mode": {
    "name": "ipython",
    "version": 3
   },
   "file_extension": ".py",
   "mimetype": "text/x-python",
   "name": "python",
   "nbconvert_exporter": "python",
   "pygments_lexer": "ipython3",
   "version": "3.11.11"
  }
 },
 "nbformat": 4,
 "nbformat_minor": 5
}
